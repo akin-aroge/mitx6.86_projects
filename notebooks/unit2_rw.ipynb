{
 "cells": [
  {
   "cell_type": "code",
   "execution_count": 1,
   "metadata": {},
   "outputs": [],
   "source": [
    "import numpy as np"
   ]
  },
  {
   "cell_type": "code",
   "execution_count": 5,
   "metadata": {},
   "outputs": [],
   "source": [
    "X = np.array([[1,0,1], [1,1,1], [1,1,-1], [-1,1,1]])\n",
    "y = np.array([2,2.7, -0.7, 2])\n",
    "theta = np.array([0,1,2])\n",
    "\n",
    "R = (1/4)*np.sum(y - np.matmul(X, theta.T))"
   ]
  },
  {
   "cell_type": "code",
   "execution_count": 38,
   "metadata": {},
   "outputs": [],
   "source": [
    "z = y - np.matmul(X, theta.T)\n",
    "z[z >= 1] = 0\n",
    "z[z < 1] = 1 - z[z < 1]\n",
    "np.mean(z)"
   ]
  },
  {
   "cell_type": "code",
   "execution_count": 45,
   "metadata": {},
   "outputs": [
    {
     "data": {
      "text/plain": [
       "0.1475"
      ]
     },
     "execution_count": 45,
     "metadata": {},
     "output_type": "execute_result"
    }
   ],
   "source": [
    "z = y - np.matmul(X, theta.T)\n",
    "\n",
    "np.mean((z ** 2)/2.0)"
   ]
  },
  {
   "cell_type": "code",
   "execution_count": 48,
   "metadata": {},
   "outputs": [
    {
     "data": {
      "text/plain": [
       "-1.0000000000000002"
      ]
     },
     "execution_count": 48,
     "metadata": {},
     "output_type": "execute_result"
    }
   ],
   "source": [
    "x1 = np.array([1,0,0])\n",
    "x2 = np.array([0,1,0])\n",
    "z = x1-x2\n",
    "(-1/2)*np.linalg.linalg.norm(z)**2"
   ]
  },
  {
   "cell_type": "code",
   "execution_count": null,
   "metadata": {},
   "outputs": [],
   "source": []
  }
 ],
 "metadata": {
  "kernelspec": {
   "display_name": "Python [conda env:env_mitx6.86x] *",
   "language": "python",
   "name": "conda-env-env_mitx6.86x-py"
  },
  "language_info": {
   "codemirror_mode": {
    "name": "ipython",
    "version": 3
   },
   "file_extension": ".py",
   "mimetype": "text/x-python",
   "name": "python",
   "nbconvert_exporter": "python",
   "pygments_lexer": "ipython3",
   "version": "3.7.3"
  }
 },
 "nbformat": 4,
 "nbformat_minor": 2
}
